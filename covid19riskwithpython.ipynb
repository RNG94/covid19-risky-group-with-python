{
 "cells": [
  {
   "cell_type": "code",
   "execution_count": null,
   "id": "d59d94cc",
   "metadata": {},
   "outputs": [],
   "source": [
    "age = input(\"Are you a cigarette addict older than 75 years old? (yes/no): \").lower().strip() == \"yes\"\n",
    "chronic = input(\"Do you have a severe chronic disease? (yes/no): \").lower().strip() == \"yes\"\n",
    "immune = input(\"Is your immune system too weak? (yes/no): \").lower().strip() == \"yes\"\n",
    "\n",
    "if age and chronic and immune:\n",
    "    print(\"You are in risky group\")\n",
    "else:\n",
    "    print(\"You are not in risky group\")"
   ]
  }
 ],
 "metadata": {
  "kernelspec": {
   "display_name": "Python 3 (ipykernel)",
   "language": "python",
   "name": "python3"
  },
  "language_info": {
   "codemirror_mode": {
    "name": "ipython",
    "version": 3
   },
   "file_extension": ".py",
   "mimetype": "text/x-python",
   "name": "python",
   "nbconvert_exporter": "python",
   "pygments_lexer": "ipython3",
   "version": "3.9.12"
  }
 },
 "nbformat": 4,
 "nbformat_minor": 5
}
